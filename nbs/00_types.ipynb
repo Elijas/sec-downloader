{
 "cells": [
  {
   "cell_type": "code",
   "execution_count": null,
   "metadata": {},
   "outputs": [],
   "source": [
    "# | default_exp types"
   ]
  },
  {
   "cell_type": "code",
   "execution_count": null,
   "metadata": {},
   "outputs": [],
   "source": [
    "# | export\n",
    "import re\n",
    "from dataclasses import dataclass\n",
    "from typing import Optional"
   ]
  },
  {
   "cell_type": "code",
   "execution_count": null,
   "metadata": {},
   "outputs": [],
   "source": [
    "# | hide\n",
    "import nbdev"
   ]
  },
  {
   "cell_type": "code",
   "execution_count": null,
   "metadata": {},
   "outputs": [],
   "source": [
    "# | export\n",
    "@dataclass\n",
    "class Ticker:\n",
    "    symbol: str\n",
    "    exchange: str"
   ]
  },
  {
   "cell_type": "code",
   "execution_count": null,
   "metadata": {},
   "outputs": [],
   "source": [
    "# | export\n",
    "@dataclass\n",
    "class FilingMetadata:\n",
    "    accession_number: str\n",
    "    form_type: str\n",
    "    primary_doc_url: str\n",
    "    items: str\n",
    "    primary_doc_description: str\n",
    "    filing_date: str\n",
    "    report_date: str\n",
    "    cik: str\n",
    "    company_name: str\n",
    "    tickers: list[Ticker]"
   ]
  },
  {
   "cell_type": "code",
   "execution_count": null,
   "metadata": {},
   "outputs": [],
   "source": [
    "# | export\n",
    "@dataclass\n",
    "class RequestedFilings:\n",
    "    ticker_or_cik: str\n",
    "    form_type: str = \"10-Q\"\n",
    "    limit: int = 1\n",
    "\n",
    "    _REGEX_PATTERN = r\"^(?:(\\d+)/)?([^/]+)(?:/(.+))?$\"\n",
    "\n",
    "    @classmethod\n",
    "    def from_string(cls, s: str):\n",
    "        match = re.match(cls._REGEX_PATTERN, s.strip())\n",
    "        if not match:\n",
    "            raise ValueError(f\"Invalid RequestedFilings string: {s}\")\n",
    "        limit_str, ticker_or_cik, form_type = match.groups()\n",
    "        limit = int(limit_str) if limit_str else cls.limit\n",
    "        form_type = form_type if form_type else cls.form_type\n",
    "        form_type = form_type.upper()\n",
    "        return cls(\n",
    "            limit=limit,\n",
    "            ticker_or_cik=ticker_or_cik,\n",
    "            form_type=form_type,\n",
    "        )"
   ]
  },
  {
   "cell_type": "code",
   "execution_count": null,
   "metadata": {},
   "outputs": [],
   "source": [
    "# Define test cases and expected results\n",
    "test_cases = [\n",
    "    (\"3/AAPL/10-Q\", RequestedFilings(limit=3, ticker_or_cik=\"AAPL\", form_type=\"10-Q\")),\n",
    "    (\"MSFT/10-K\", RequestedFilings(ticker_or_cik=\"MSFT\", form_type=\"10-K\")),\n",
    "    (\"1/GOOG\", RequestedFilings(limit=1, ticker_or_cik=\"GOOG\")),\n",
    "    (\"BRK.A\", RequestedFilings(ticker_or_cik=\"BRK.A\")),\n",
    "    (\"1/0001990966/SC TO-T\", RequestedFilings(limit=1, ticker_or_cik=\"0001990966\", form_type=\"SC TO-T\")),\n",
    "    (\"1/0001990966/SC TO-T/A\", RequestedFilings(limit=1, ticker_or_cik=\"0001990966\", form_type=\"SC TO-T/A\")),\n",
    "]\n",
    "\n",
    "# Run test cases and assert expected results\n",
    "for test_string, expected in test_cases:\n",
    "    result = RequestedFilings.from_string(test_string)\n",
    "    assert (\n",
    "        result == expected\n",
    "    ), f\"Test case failed for input: {test_string}. Expected: {expected}, Got: {result}\""
   ]
  },
  {
   "cell_type": "code",
   "execution_count": null,
   "metadata": {},
   "outputs": [],
   "source": [
    "# | export\n",
    "@dataclass\n",
    "class CompanyAndAccessionNumber:\n",
    "    ticker_or_cik: str\n",
    "    accession_number: str\n",
    "\n",
    "    _REGEX_PATTERN = re.compile(r\"\\b([A-Za-z0-9.]+)/(\\d{10}-?\\d{2}-?\\d{6})\\b\")\n",
    "\n",
    "    @classmethod\n",
    "    def from_string(\n",
    "        cls, s: str, *, must_match=False\n",
    "    ) -> Optional[\"CompanyAndAccessionNumber\"]:\n",
    "        match = re.search(cls._REGEX_PATTERN, s.strip())\n",
    "        if not match:\n",
    "            if must_match:\n",
    "                raise ValueError(f\"Invalid RequestedFilings string: {s}\")\n",
    "            else:\n",
    "                return None\n",
    "        ticker_or_cik, accession_number = match.groups()\n",
    "        return cls(\n",
    "            ticker_or_cik=ticker_or_cik,\n",
    "            accession_number=accession_number,\n",
    "        )"
   ]
  },
  {
   "cell_type": "code",
   "execution_count": null,
   "metadata": {},
   "outputs": [],
   "source": [
    "test_cases = [\n",
    "    (\n",
    "        \"AAPL/0000320193-20-000052\",\n",
    "        CompanyAndAccessionNumber(\n",
    "            ticker_or_cik=\"AAPL\", accession_number=\"0000320193-20-000052\"\n",
    "        ),\n",
    "    ),\n",
    "    (\n",
    "        \"0001193125/000119312520036918\",\n",
    "        CompanyAndAccessionNumber(\n",
    "            ticker_or_cik=\"0001193125\", accession_number=\"000119312520036918\"\n",
    "        ),\n",
    "    ),\n",
    "    (\n",
    "        \"1193125/000119312520036918\",\n",
    "        CompanyAndAccessionNumber(\n",
    "            ticker_or_cik=\"1193125\", accession_number=\"000119312520036918\"\n",
    "        ),\n",
    "    ),\n",
    "    (\"INVALID_STRING\", None),\n",
    "]\n",
    "\n",
    "for test_input, expected in test_cases:\n",
    "    result = CompanyAndAccessionNumber.from_string(test_input, must_match=False)\n",
    "    assert (\n",
    "        result == expected\n",
    "    ), f\"Test case failed for input: {test_input}. Expected: {expected}, Got: {result}\""
   ]
  },
  {
   "cell_type": "code",
   "execution_count": null,
   "metadata": {},
   "outputs": [],
   "source": [
    "# | hide\n",
    "nbdev.nbdev_export()"
   ]
  }
 ],
 "metadata": {
  "kernelspec": {
   "display_name": "python3",
   "language": "python",
   "name": "python3"
  }
 },
 "nbformat": 4,
 "nbformat_minor": 2
}
