{
 "cells": [
  {
   "cell_type": "code",
   "execution_count": null,
   "metadata": {},
   "outputs": [],
   "source": [
    "# | default_exp requested_filings"
   ]
  },
  {
   "cell_type": "code",
   "execution_count": null,
   "metadata": {},
   "outputs": [],
   "source": [
    "# | export\n",
    "import re\n",
    "from dataclasses import dataclass"
   ]
  },
  {
   "cell_type": "code",
   "execution_count": null,
   "metadata": {},
   "outputs": [],
   "source": [
    "# | hide\n",
    "import jupyter_black\n",
    "import nbdev"
   ]
  },
  {
   "cell_type": "code",
   "execution_count": null,
   "metadata": {},
   "outputs": [
    {
     "data": {
      "text/html": [
       "\n",
       "                <script type=\"application/javascript\" id=\"jupyter_black\">\n",
       "                (function() {\n",
       "                    if (window.IPython === undefined) {\n",
       "                        return\n",
       "                    }\n",
       "                    var msg = \"WARNING: it looks like you might have loaded \" +\n",
       "                        \"jupyter_black in a non-lab notebook with \" +\n",
       "                        \"`is_lab=True`. Please double check, and if \" +\n",
       "                        \"loading with `%load_ext` please review the README!\"\n",
       "                    console.log(msg)\n",
       "                    alert(msg)\n",
       "                })()\n",
       "                </script>\n",
       "                "
      ],
      "text/plain": [
       "<IPython.core.display.HTML object>"
      ]
     },
     "metadata": {},
     "output_type": "display_data"
    }
   ],
   "source": [
    "# | hide\n",
    "jupyter_black.load()"
   ]
  },
  {
   "cell_type": "code",
   "execution_count": null,
   "metadata": {},
   "outputs": [],
   "source": [
    "# | export\n",
    "@dataclass\n",
    "class RequestedFilings:\n",
    "    ticker_or_cik: str\n",
    "    form_type: str = \"10-Q\"\n",
    "    limit: int = 1\n",
    "\n",
    "    _REGEX_PATTERN = r\"^(?:(\\d+)/)?([^/]+)(?:/([^/]+))?$\"\n",
    "\n",
    "    @classmethod\n",
    "    def from_string(cls, s: str):\n",
    "        match = re.match(cls._REGEX_PATTERN, s.strip())\n",
    "        if not match:\n",
    "            raise ValueError(f\"Invalid RequestedFilings string: {s}\")\n",
    "        limit_str, ticker_or_cik, form_type = match.groups()\n",
    "        limit = int(limit_str) if limit_str else cls.limit\n",
    "        form_type = form_type if form_type else cls.form_type\n",
    "        form_type = form_type.upper()\n",
    "        return cls(\n",
    "            limit=limit,\n",
    "            ticker_or_cik=ticker_or_cik,\n",
    "            form_type=form_type,\n",
    "        )"
   ]
  },
  {
   "cell_type": "code",
   "execution_count": null,
   "metadata": {},
   "outputs": [],
   "source": [
    "# Define test cases and expected results\n",
    "test_cases = [\n",
    "    (\"3/AAPL/10-Q\", RequestedFilings(limit=3, ticker_or_cik=\"AAPL\", form_type=\"10-Q\")),\n",
    "    (\"MSFT/10-K\", RequestedFilings(ticker_or_cik=\"MSFT\", form_type=\"10-K\")),\n",
    "    (\"1/GOOG\", RequestedFilings(limit=1, ticker_or_cik=\"GOOG\")),\n",
    "    (\"BRK.A\", RequestedFilings(ticker_or_cik=\"BRK.A\")),\n",
    "]\n",
    "\n",
    "# Run test cases and assert expected results\n",
    "for test_string, expected in test_cases:\n",
    "    result = RequestedFilings.from_string(test_string)\n",
    "    assert (\n",
    "        result == expected\n",
    "    ), f\"Test case failed for input: {test_string}. Expected: {expected}, Got: {result}\""
   ]
  },
  {
   "cell_type": "code",
   "execution_count": null,
   "metadata": {},
   "outputs": [],
   "source": [
    "# | hide\n",
    "nbdev.nbdev_export()"
   ]
  }
 ],
 "metadata": {
  "kernelspec": {
   "display_name": "python3",
   "language": "python",
   "name": "python3"
  }
 },
 "nbformat": 4,
 "nbformat_minor": 2
}
