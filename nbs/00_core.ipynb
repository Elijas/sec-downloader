{
 "cells": [
  {
   "attachments": {},
   "cell_type": "markdown",
   "metadata": {},
   "source": [
    "# core"
   ]
  },
  {
   "cell_type": "code",
   "execution_count": null,
   "metadata": {},
   "outputs": [],
   "source": [
    "# | default_exp core"
   ]
  },
  {
   "cell_type": "code",
   "execution_count": null,
   "metadata": {},
   "outputs": [],
   "source": [
    "# | hide\n",
    "import jupyter_black"
   ]
  },
  {
   "cell_type": "code",
   "execution_count": null,
   "metadata": {},
   "outputs": [],
   "source": [
    "# | export\n",
    "import tempfile\n",
    "import shutil\n",
    "from pathlib import Path\n",
    "from glob import glob\n",
    "from typing import Optional\n",
    "from collections import namedtuple\n",
    "from sec_edgar_downloader import Downloader as SecEdgarDownloader\n",
    "from sec_downloader.sec_edgar_downloader_fork import get_primary_doc_url\n",
    "from sec_edgar_downloader._sec_gateway import download_filing"
   ]
  },
  {
   "cell_type": "code",
   "execution_count": null,
   "metadata": {},
   "outputs": [
    {
     "data": {
      "text/html": [
       "\n",
       "                <script type=\"application/javascript\" id=\"jupyter_black\">\n",
       "                (function() {\n",
       "                    if (window.IPython === undefined) {\n",
       "                        return\n",
       "                    }\n",
       "                    var msg = \"WARNING: it looks like you might have loaded \" +\n",
       "                        \"jupyter_black in a non-lab notebook with \" +\n",
       "                        \"`is_lab=True`. Please double check, and if \" +\n",
       "                        \"loading with `%load_ext` please review the README!\"\n",
       "                    console.log(msg)\n",
       "                    alert(msg)\n",
       "                })()\n",
       "                </script>\n",
       "                "
      ],
      "text/plain": [
       "<IPython.core.display.HTML object>"
      ]
     },
     "metadata": {},
     "output_type": "display_data"
    }
   ],
   "source": [
    "# | hide\n",
    "jupyter_black.load()"
   ]
  },
  {
   "cell_type": "code",
   "execution_count": null,
   "metadata": {},
   "outputs": [],
   "source": [
    "# | export\n",
    "FileContent = namedtuple(\"FileContent\", [\"path\", \"content\"])\n",
    "DEFAULT_FILTER_PATTERN = \"**/*.*\"\n",
    "\n",
    "\n",
    "class DownloadStorage:\n",
    "    def __init__(self, *, filter_pattern: Optional[str] = None):\n",
    "        self.glob_pattern = filter_pattern or DEFAULT_FILTER_PATTERN\n",
    "        self.temp_dir = None\n",
    "        self.file_contents = None\n",
    "\n",
    "    def __enter__(self):\n",
    "        self.temp_dir = tempfile.mkdtemp()\n",
    "        return self.temp_dir\n",
    "\n",
    "    def __exit__(self, exc_type, exc_val, exc_tb):\n",
    "        self._read_files()\n",
    "        if self.temp_dir:\n",
    "            shutil.rmtree(self.temp_dir)\n",
    "\n",
    "    def _read_files(self):\n",
    "        self.file_contents = []\n",
    "        glob_path = Path(self.temp_dir) / self.glob_pattern\n",
    "        for filepath in glob(str(glob_path), recursive=True):\n",
    "            path = Path(filepath)\n",
    "            relative_path = path.relative_to(self.temp_dir)\n",
    "            with open(filepath, \"r\", encoding=\"utf-8\", errors=\"ignore\") as f:\n",
    "                content = f.read()\n",
    "            self.file_contents.append(FileContent(relative_path, content))\n",
    "\n",
    "    def get_file_contents(self):\n",
    "        if self.file_contents is None:\n",
    "            raise RuntimeError(\n",
    "                \"File contents are not available until the context is exited.\"\n",
    "            )\n",
    "        return self.file_contents"
   ]
  },
  {
   "cell_type": "code",
   "execution_count": null,
   "metadata": {},
   "outputs": [],
   "source": [
    "# | export\n",
    "\n",
    "\n",
    "ONLY_HTML = \"**/*.htm*\"\n",
    "\n",
    "\n",
    "class Downloader:\n",
    "    DEFAULT_ENCODING = \"utf-8\"\n",
    "\n",
    "    def __init__(\n",
    "        self,\n",
    "        company_name: str,\n",
    "        email_address: str,\n",
    "    ):\n",
    "        self.company_name = company_name\n",
    "        self.email_address = email_address\n",
    "\n",
    "    @property\n",
    "    def user_agent(self):\n",
    "        return f\"{self.company_name} {self.email_address}\"\n",
    "\n",
    "    def get_latest_html(self, doc_type: str, ticker: str):\n",
    "        storage = DownloadStorage(filter_pattern=ONLY_HTML)\n",
    "        with storage as path:\n",
    "            dl = SecEdgarDownloader(self.company_name, self.email_address, path)\n",
    "            dl.get(doc_type, ticker, limit=1, download_details=True)\n",
    "        return storage.get_file_contents()[0].content\n",
    "\n",
    "    def get_latest_n_html(self, doc_type: str, ticker: str, n: int):\n",
    "        storage = DownloadStorage(filter_pattern=ONLY_HTML)\n",
    "        with storage as path:\n",
    "            dl = SecEdgarDownloader(self.company_name, self.email_address, path)\n",
    "            dl.get(doc_type, ticker, limit=n, download_details=True)\n",
    "        return [k.content for k in storage.get_file_contents()]\n",
    "\n",
    "    def get_primary_doc_url(self, *, accession_number: str):\n",
    "        return get_primary_doc_url(\n",
    "            accession_number=accession_number, user_agent=self.user_agent\n",
    "        )\n",
    "\n",
    "    def get_primary_doc_html(\n",
    "        self, *, accession_number: str, encoding: Optional[str] = DEFAULT_ENCODING\n",
    "    ):\n",
    "        primary_doc_url = self.get_primary_doc_url(accession_number=accession_number)\n",
    "        html = download_filing(primary_doc_url, self.user_agent)\n",
    "        if encoding is not None:\n",
    "            html = html.decode(encoding)\n",
    "        return html"
   ]
  },
  {
   "cell_type": "code",
   "execution_count": null,
   "metadata": {},
   "outputs": [],
   "source": [
    "# | hide\n",
    "import nbdev\n",
    "\n",
    "nbdev.nbdev_export()"
   ]
  }
 ],
 "metadata": {
  "kernelspec": {
   "display_name": "python3",
   "language": "python",
   "name": "python3"
  }
 },
 "nbformat": 4,
 "nbformat_minor": 4
}
