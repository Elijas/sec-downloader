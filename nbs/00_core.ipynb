{
 "cells": [
  {
   "attachments": {},
   "cell_type": "markdown",
   "metadata": {},
   "source": [
    "# core"
   ]
  },
  {
   "cell_type": "code",
   "execution_count": null,
   "metadata": {},
   "outputs": [],
   "source": [
    "# | default_exp core"
   ]
  },
  {
   "cell_type": "code",
   "execution_count": null,
   "metadata": {},
   "outputs": [
    {
     "data": {
      "text/html": [
       "\n",
       "                <script type=\"application/javascript\" id=\"jupyter_black\">\n",
       "                (function() {\n",
       "                    if (window.IPython === undefined) {\n",
       "                        return\n",
       "                    }\n",
       "                    var msg = \"WARNING: it looks like you might have loaded \" +\n",
       "                        \"jupyter_black in a non-lab notebook with \" +\n",
       "                        \"`is_lab=True`. Please double check, and if \" +\n",
       "                        \"loading with `%load_ext` please review the README!\"\n",
       "                    console.log(msg)\n",
       "                    alert(msg)\n",
       "                })()\n",
       "                </script>\n",
       "                "
      ],
      "text/plain": [
       "<IPython.core.display.HTML object>"
      ]
     },
     "metadata": {},
     "output_type": "display_data"
    }
   ],
   "source": [
    "# | hide\n",
    "import jupyter_black\n",
    "\n",
    "jupyter_black.load()"
   ]
  },
  {
   "cell_type": "code",
   "execution_count": null,
   "metadata": {},
   "outputs": [],
   "source": [
    "# | export\n",
    "from sec_edgar_downloader import Downloader"
   ]
  },
  {
   "cell_type": "code",
   "execution_count": null,
   "metadata": {},
   "outputs": [],
   "source": [
    "# | export\n",
    "import tempfile\n",
    "import shutil\n",
    "from pathlib import Path\n",
    "from glob import glob\n",
    "from typing import Optional\n",
    "from collections import namedtuple\n",
    "\n",
    "FileContent = namedtuple(\"FileContent\", [\"path\", \"content\"])\n",
    "DEFAULT_FILTER_PATTERN = \"**/*.*\"\n",
    "\n",
    "\n",
    "class DownloadStorage:\n",
    "    def __init__(self, *, filter_pattern: Optional[str] = None):\n",
    "        self.glob_pattern = filter_pattern or DEFAULT_FILTER_PATTERN\n",
    "        self.temp_dir = None\n",
    "        self.file_contents = None\n",
    "\n",
    "    def __enter__(self):\n",
    "        self.temp_dir = tempfile.mkdtemp()\n",
    "        return self.temp_dir\n",
    "\n",
    "    def __exit__(self, exc_type, exc_val, exc_tb):\n",
    "        self._read_files()\n",
    "        if self.temp_dir:\n",
    "            shutil.rmtree(self.temp_dir)\n",
    "\n",
    "    def _read_files(self):\n",
    "        self.file_contents = []\n",
    "        glob_path = Path(self.temp_dir) / self.glob_pattern\n",
    "        for filepath in glob(str(glob_path), recursive=True):\n",
    "            path = Path(filepath)\n",
    "            relative_path = path.relative_to(self.temp_dir)\n",
    "            with open(filepath, \"r\", encoding=\"utf-8\", errors=\"ignore\") as f:\n",
    "                content = f.read()\n",
    "            self.file_contents.append(FileContent(relative_path, content))\n",
    "\n",
    "    def get_file_contents(self):\n",
    "        if self.file_contents is None:\n",
    "            raise RuntimeError(\n",
    "                \"File contents are not available until the context is exited.\"\n",
    "            )\n",
    "        return self.file_contents"
   ]
  },
  {
   "cell_type": "code",
   "execution_count": null,
   "metadata": {},
   "outputs": [],
   "source": [
    "# | hide\n",
    "import nbdev\n",
    "\n",
    "nbdev.nbdev_export()"
   ]
  }
 ],
 "metadata": {
  "kernelspec": {
   "display_name": "python3",
   "language": "python",
   "name": "python3"
  }
 },
 "nbformat": 4,
 "nbformat_minor": 4
}
