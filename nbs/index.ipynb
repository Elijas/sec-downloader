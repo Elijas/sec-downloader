{
 "cells": [
  {
   "cell_type": "code",
   "execution_count": null,
   "metadata": {},
   "outputs": [
    {
     "data": {
      "text/html": [
       "\n",
       "                <script type=\"application/javascript\" id=\"jupyter_black\">\n",
       "                (function() {\n",
       "                    if (window.IPython === undefined) {\n",
       "                        return\n",
       "                    }\n",
       "                    var msg = \"WARNING: it looks like you might have loaded \" +\n",
       "                        \"jupyter_black in a non-lab notebook with \" +\n",
       "                        \"`is_lab=True`. Please double check, and if \" +\n",
       "                        \"loading with `%load_ext` please review the README!\"\n",
       "                    console.log(msg)\n",
       "                    alert(msg)\n",
       "                })()\n",
       "                </script>\n",
       "                "
      ],
      "text/plain": [
       "<IPython.core.display.HTML object>"
      ]
     },
     "metadata": {},
     "output_type": "display_data"
    }
   ],
   "source": [
    "# | hide\n",
    "import jupyter_black\n",
    "\n",
    "jupyter_black.load()"
   ]
  },
  {
   "attachments": {},
   "cell_type": "markdown",
   "metadata": {},
   "source": [
    "# sec-downloader"
   ]
  },
  {
   "attachments": {},
   "cell_type": "markdown",
   "metadata": {},
   "source": [
    "\n",
    "<a href=\"https://github.com/elijas/sec-downloader/actions/workflows/test.yaml\"><img alt=\"GitHub Workflow Status\" src=\"https://img.shields.io/github/actions/workflow/status/elijas/sec-downloader/test.yaml?label=build\"></a>\n",
    "<a href=\"https://pypi.org/project/sec-downloader/\"><img alt=\"PyPI - Python Version\" src=\"https://img.shields.io/pypi/pyversions/sec-downloader\"></a>\n",
    "<a href=\"https://badge.fury.io/py/sec-downloader\"><img src=\"https://badge.fury.io/py/sec-downloader.svg\" alt=\"PyPI version\" /></a>\n",
    "<a href=\"LICENSE\"><img src=\"https://img.shields.io/github/license/elijas/sec-downloader.svg\" alt=\"Licence\"></a>\n",
    "\n",
    "Useful extensions for sec-edgar-downloader. Built with [nbdev](https://nbdev.fast.ai/).\n",
    "\n"
   ]
  },
  {
   "attachments": {},
   "cell_type": "markdown",
   "metadata": {},
   "source": [
    "## Install"
   ]
  },
  {
   "attachments": {},
   "cell_type": "markdown",
   "metadata": {},
   "source": [
    "```sh\n",
    "pip install sec_downloader\n",
    "```"
   ]
  },
  {
   "attachments": {},
   "cell_type": "markdown",
   "metadata": {},
   "source": [
    "## Features"
   ]
  },
  {
   "attachments": {},
   "cell_type": "markdown",
   "metadata": {},
   "source": [
    " - Files are downloaded to a temporary folder, immediately read into memory, and then deleted.\n",
    " - Use \"glob\" pattern to select which files are read to memory.\n"
   ]
  },
  {
   "attachments": {},
   "cell_type": "markdown",
   "metadata": {},
   "source": [
    "## How to use"
   ]
  },
  {
   "cell_type": "markdown",
   "metadata": {},
   "source": [
    "### Option 1: Wrapper of `sec-edgar-downloader`"
   ]
  },
  {
   "attachments": {},
   "cell_type": "markdown",
   "metadata": {},
   "source": [
    "Let's demonstrate how to download a single file (latest 10-Q filing details in HTML format) to memory."
   ]
  },
  {
   "cell_type": "code",
   "execution_count": null,
   "metadata": {},
   "outputs": [
    {
     "ename": "ImportError",
     "evalue": "cannot import name 'Filing' from 'sec_downloader.types' (/Users/user/Development/alphanome-ai/sec-downloader/sec_downloader/types.py)",
     "output_type": "error",
     "traceback": [
      "\u001b[0;31m---------------------------------------------------------------------------\u001b[0m",
      "\u001b[0;31mImportError\u001b[0m                               Traceback (most recent call last)",
      "\u001b[1;32m/Users/user/Development/alphanome-ai/sec-downloader/nbs/index.ipynb Cell 11\u001b[0m line \u001b[0;36m1\n\u001b[0;32m----> <a href='vscode-notebook-cell:/Users/user/Development/alphanome-ai/sec-downloader/nbs/index.ipynb#X64sZmlsZQ%3D%3D?line=0'>1</a>\u001b[0m \u001b[39mfrom\u001b[39;00m \u001b[39msec_downloader\u001b[39;00m \u001b[39mimport\u001b[39;00m Downloader\n\u001b[1;32m      <a href='vscode-notebook-cell:/Users/user/Development/alphanome-ai/sec-downloader/nbs/index.ipynb#X64sZmlsZQ%3D%3D?line=2'>3</a>\u001b[0m dl \u001b[39m=\u001b[39m Downloader(\u001b[39m\"\u001b[39m\u001b[39mMyCompanyName\u001b[39m\u001b[39m\"\u001b[39m, \u001b[39m\"\u001b[39m\u001b[39memail@example.com\u001b[39m\u001b[39m\"\u001b[39m)\n\u001b[1;32m      <a href='vscode-notebook-cell:/Users/user/Development/alphanome-ai/sec-downloader/nbs/index.ipynb#X64sZmlsZQ%3D%3D?line=3'>4</a>\u001b[0m html \u001b[39m=\u001b[39m dl\u001b[39m.\u001b[39mget_latest_html(\u001b[39m\"\u001b[39m\u001b[39m10-Q\u001b[39m\u001b[39m\"\u001b[39m, \u001b[39m\"\u001b[39m\u001b[39mAAPL\u001b[39m\u001b[39m\"\u001b[39m)\n",
      "File \u001b[0;32m~/Development/alphanome-ai/sec-downloader/sec_downloader/__init__.py:2\u001b[0m\n\u001b[1;32m      1\u001b[0m __version__ \u001b[39m=\u001b[39m \u001b[39m\"\u001b[39m\u001b[39m0.5.0\u001b[39m\u001b[39m\"\u001b[39m\n\u001b[0;32m----> 2\u001b[0m \u001b[39mfrom\u001b[39;00m \u001b[39msec_downloader\u001b[39;00m\u001b[39m.\u001b[39;00m\u001b[39mcore\u001b[39;00m \u001b[39mimport\u001b[39;00m Downloader, DownloadStorage, FileContent\n\u001b[1;32m      4\u001b[0m __all__ \u001b[39m=\u001b[39m [\u001b[39m\"\u001b[39m\u001b[39mDownloader\u001b[39m\u001b[39m\"\u001b[39m, \u001b[39m\"\u001b[39m\u001b[39mDownloadStorage\u001b[39m\u001b[39m\"\u001b[39m, \u001b[39m\"\u001b[39m\u001b[39mFileContent\u001b[39m\u001b[39m\"\u001b[39m]\n",
      "File \u001b[0;32m~/Development/alphanome-ai/sec-downloader/sec_downloader/core.py:15\u001b[0m\n\u001b[1;32m      9\u001b[0m \u001b[39mfrom\u001b[39;00m \u001b[39msec_downloader\u001b[39;00m\u001b[39m.\u001b[39;00m\u001b[39mrequested_filings\u001b[39;00m \u001b[39mimport\u001b[39;00m RequestedFilings\n\u001b[1;32m     10\u001b[0m \u001b[39mfrom\u001b[39;00m \u001b[39msec_downloader\u001b[39;00m\u001b[39m.\u001b[39;00m\u001b[39msec_edgar_downloader_fork\u001b[39;00m \u001b[39mimport\u001b[39;00m (\n\u001b[1;32m     11\u001b[0m     FilingMetadata,\n\u001b[1;32m     12\u001b[0m     get_filing_metadata,\n\u001b[1;32m     13\u001b[0m     get_latest_filings_metadata,\n\u001b[1;32m     14\u001b[0m )\n\u001b[0;32m---> 15\u001b[0m \u001b[39mfrom\u001b[39;00m \u001b[39msec_downloader\u001b[39;00m\u001b[39m.\u001b[39;00m\u001b[39mtypes\u001b[39;00m \u001b[39mimport\u001b[39;00m Filing\n\u001b[1;32m     16\u001b[0m \u001b[39mfrom\u001b[39;00m \u001b[39msec_edgar_downloader\u001b[39;00m \u001b[39mimport\u001b[39;00m Downloader \u001b[39mas\u001b[39;00m SecEdgarDownloader\n\u001b[1;32m     17\u001b[0m \u001b[39mfrom\u001b[39;00m \u001b[39msec_edgar_downloader\u001b[39;00m\u001b[39m.\u001b[39;00m\u001b[39m_orchestrator\u001b[39;00m \u001b[39mimport\u001b[39;00m get_ticker_to_cik_mapping\n",
      "\u001b[0;31mImportError\u001b[0m: cannot import name 'Filing' from 'sec_downloader.types' (/Users/user/Development/alphanome-ai/sec-downloader/sec_downloader/types.py)"
     ]
    }
   ],
   "source": [
    "from sec_downloader import Downloader\n",
    "\n",
    "dl = Downloader(\"MyCompanyName\", \"email@example.com\")\n",
    "html = dl.get_latest_html(\"10-Q\", \"AAPL\")\n",
    "# Use dl.get_latest_n_html(\"10-Q\", \"AAPL\", n=5) to get the latest 5 10-Qs\n",
    "print(f\"{html[:50]}...\")"
   ]
  },
  {
   "attachments": {},
   "cell_type": "markdown",
   "metadata": {},
   "source": [
    "> **Note**\n",
    "The company name and email address are used to form a user-agent string that adheres to the SEC EDGAR's fair access policy for programmatic downloading. [Source](https://www.sec.gov/os/webmaster-faq#code-support)"
   ]
  },
  {
   "attachments": {},
   "cell_type": "markdown",
   "metadata": {},
   "source": [
    "Which is implemented approximately as:"
   ]
  },
  {
   "cell_type": "code",
   "execution_count": null,
   "metadata": {},
   "outputs": [
    {
     "name": "stdout",
     "output_type": "stream",
     "text": [
      "<?xml version=\"1.0\" ?><!--XBRL Document Created wi...\n"
     ]
    }
   ],
   "source": [
    "from sec_edgar_downloader import Downloader as SecEdgarDownloader\n",
    "from sec_downloader import DownloadStorage\n",
    "\n",
    "ONLY_HTML = \"**/*.htm*\"\n",
    "\n",
    "storage = DownloadStorage(filter_pattern=ONLY_HTML)\n",
    "with storage as path:\n",
    "    dl = SecEdgarDownloader(\"MyCompanyName\", \"email@example.com\", path)\n",
    "    dl.get(\"10-Q\", \"AAPL\", limit=1, download_details=True)\n",
    "# all files are now deleted and only stored in memory\n",
    "\n",
    "content = storage.get_file_contents()[0].content\n",
    "print(f\"{content[:50]}...\")"
   ]
  },
  {
   "attachments": {},
   "cell_type": "markdown",
   "metadata": {},
   "source": [
    "Downloading multiple documents:"
   ]
  },
  {
   "cell_type": "code",
   "execution_count": null,
   "metadata": {},
   "outputs": [
    {
     "name": "stdout",
     "output_type": "stream",
     "text": [
      "Path: sec-edgar-filings/GOOG/10-K/0001652044-22-000019/full-submission.txt\n",
      "Content [len=15044932]: <SEC-DOCUMENT>0001652044-22-00...\n",
      "\n",
      "Path: sec-edgar-filings/GOOG/10-K/0001652044-23-000016/full-submission.txt\n",
      "Content [len=15264470]: <SEC-DOCUMENT>0001652044-23-00...\n",
      "\n"
     ]
    }
   ],
   "source": [
    "storage = DownloadStorage()\n",
    "with storage as path:\n",
    "    dl = SecEdgarDownloader(\"MyCompanyName\", \"email@example.com\", path)\n",
    "    dl.get(\"10-K\", \"GOOG\", limit=2)\n",
    "# all files are now deleted and only stored in memory\n",
    "\n",
    "for path, content in storage.get_file_contents():\n",
    "    print(f\"Path: {path}\\nContent [len={len(content)}]: {content[:30]}...\\n\")"
   ]
  },
  {
   "cell_type": "markdown",
   "metadata": {},
   "source": [
    "### Option 2: Fork implementation of `sec-edgar-downloader`"
   ]
  },
  {
   "cell_type": "markdown",
   "metadata": {},
   "source": [
    "#### Download the metadata"
   ]
  },
  {
   "cell_type": "code",
   "execution_count": null,
   "metadata": {},
   "outputs": [
    {
     "data": {
      "text/plain": [
       "FilingMetadata(accession_number='0000320193-23-000077', form_type='10-Q', primary_doc_url='https://www.sec.gov/Archives/edgar/data/320193/000032019323000077/aapl-20230701.htm', items='', primary_doc_description='10-Q', filing_date='2023-08-04', report_date='2023-07-01', company_name='Apple Inc.', tickers=[Ticker(symbol='AAPL', exchange='Nasdaq')])"
      ]
     },
     "execution_count": null,
     "metadata": {},
     "output_type": "execute_result"
    }
   ],
   "source": [
    "dl = Downloader(\"MyCompanyName\", \"email@example.com\")\n",
    "dl.get_filing_metadata(accession_number=\"0000320193-23-000077\")"
   ]
  },
  {
   "cell_type": "code",
   "execution_count": null,
   "metadata": {},
   "outputs": [
    {
     "data": {
      "text/html": [
       "<div>\n",
       "<style scoped>\n",
       "    .dataframe tbody tr th:only-of-type {\n",
       "        vertical-align: middle;\n",
       "    }\n",
       "\n",
       "    .dataframe tbody tr th {\n",
       "        vertical-align: top;\n",
       "    }\n",
       "\n",
       "    .dataframe thead th {\n",
       "        text-align: right;\n",
       "    }\n",
       "</style>\n",
       "<table border=\"1\" class=\"dataframe\">\n",
       "  <thead>\n",
       "    <tr style=\"text-align: right;\">\n",
       "      <th></th>\n",
       "      <th>company_name</th>\n",
       "      <th>accession_number</th>\n",
       "      <th>form_type</th>\n",
       "      <th>primary_doc_url</th>\n",
       "      <th>items</th>\n",
       "      <th>primary_doc_description</th>\n",
       "      <th>filing_date</th>\n",
       "      <th>report_date</th>\n",
       "      <th>tickers</th>\n",
       "    </tr>\n",
       "  </thead>\n",
       "  <tbody>\n",
       "    <tr>\n",
       "      <th>0</th>\n",
       "      <td>Apple Inc.</td>\n",
       "      <td>0000320193-23-000077</td>\n",
       "      <td>10-Q</td>\n",
       "      <td>https://www.sec.gov/Archives/edgar/data/320193...</td>\n",
       "      <td></td>\n",
       "      <td>10-Q</td>\n",
       "      <td>2023-08-04</td>\n",
       "      <td>2023-07-01</td>\n",
       "      <td>[{'symbol': 'AAPL', 'exchange': 'Nasdaq'}]</td>\n",
       "    </tr>\n",
       "    <tr>\n",
       "      <th>1</th>\n",
       "      <td>Apple Inc.</td>\n",
       "      <td>0000320193-23-000077</td>\n",
       "      <td>10-Q</td>\n",
       "      <td>https://www.sec.gov/Archives/edgar/data/320193...</td>\n",
       "      <td></td>\n",
       "      <td>10-Q</td>\n",
       "      <td>2023-08-04</td>\n",
       "      <td>2023-07-01</td>\n",
       "      <td>[{'symbol': 'AAPL', 'exchange': 'Nasdaq'}]</td>\n",
       "    </tr>\n",
       "    <tr>\n",
       "      <th>2</th>\n",
       "      <td>NETFLIX INC</td>\n",
       "      <td>0001065280-23-000273</td>\n",
       "      <td>10-Q</td>\n",
       "      <td>https://www.sec.gov/Archives/edgar/data/106528...</td>\n",
       "      <td></td>\n",
       "      <td>10-Q</td>\n",
       "      <td>2023-10-20</td>\n",
       "      <td>2023-09-30</td>\n",
       "      <td>[{'symbol': 'NFLX', 'exchange': 'Nasdaq'}]</td>\n",
       "    </tr>\n",
       "    <tr>\n",
       "      <th>3</th>\n",
       "      <td>MICROSOFT CORP</td>\n",
       "      <td>0000950170-23-035122</td>\n",
       "      <td>10-K</td>\n",
       "      <td>https://www.sec.gov/Archives/edgar/data/789019...</td>\n",
       "      <td></td>\n",
       "      <td>10-K</td>\n",
       "      <td>2023-07-27</td>\n",
       "      <td>2023-06-30</td>\n",
       "      <td>[{'symbol': 'MSFT', 'exchange': 'Nasdaq'}]</td>\n",
       "    </tr>\n",
       "    <tr>\n",
       "      <th>4</th>\n",
       "      <td>MICROSOFT CORP</td>\n",
       "      <td>0001564590-22-026876</td>\n",
       "      <td>10-K</td>\n",
       "      <td>https://www.sec.gov/Archives/edgar/data/789019...</td>\n",
       "      <td></td>\n",
       "      <td>10-K</td>\n",
       "      <td>2022-07-28</td>\n",
       "      <td>2022-06-30</td>\n",
       "      <td>[{'symbol': 'MSFT', 'exchange': 'Nasdaq'}]</td>\n",
       "    </tr>\n",
       "  </tbody>\n",
       "</table>\n",
       "</div>"
      ],
      "text/plain": [
       "     company_name      accession_number form_type  \\\n",
       "0      Apple Inc.  0000320193-23-000077      10-Q   \n",
       "1      Apple Inc.  0000320193-23-000077      10-Q   \n",
       "2     NETFLIX INC  0001065280-23-000273      10-Q   \n",
       "3  MICROSOFT CORP  0000950170-23-035122      10-K   \n",
       "4  MICROSOFT CORP  0001564590-22-026876      10-K   \n",
       "\n",
       "                                     primary_doc_url items  \\\n",
       "0  https://www.sec.gov/Archives/edgar/data/320193...         \n",
       "1  https://www.sec.gov/Archives/edgar/data/320193...         \n",
       "2  https://www.sec.gov/Archives/edgar/data/106528...         \n",
       "3  https://www.sec.gov/Archives/edgar/data/789019...         \n",
       "4  https://www.sec.gov/Archives/edgar/data/789019...         \n",
       "\n",
       "  primary_doc_description filing_date report_date  \\\n",
       "0                    10-Q  2023-08-04  2023-07-01   \n",
       "1                    10-Q  2023-08-04  2023-07-01   \n",
       "2                    10-Q  2023-10-20  2023-09-30   \n",
       "3                    10-K  2023-07-27  2023-06-30   \n",
       "4                    10-K  2022-07-28  2022-06-30   \n",
       "\n",
       "                                      tickers  \n",
       "0  [{'symbol': 'AAPL', 'exchange': 'Nasdaq'}]  \n",
       "1  [{'symbol': 'AAPL', 'exchange': 'Nasdaq'}]  \n",
       "2  [{'symbol': 'NFLX', 'exchange': 'Nasdaq'}]  \n",
       "3  [{'symbol': 'MSFT', 'exchange': 'Nasdaq'}]  \n",
       "4  [{'symbol': 'MSFT', 'exchange': 'Nasdaq'}]  "
      ]
     },
     "execution_count": null,
     "metadata": {},
     "output_type": "execute_result"
    }
   ],
   "source": [
    "dl = Downloader(\"MyCompanyName\", \"email@example.com\")\n",
    "metadatas = dl.get_filing_metadatas(\n",
    "    [\n",
    "        # Here you can provide any number of these:\n",
    "        # -----------------------------------------\n",
    "        # EXAMPLE 1: Accession Number\n",
    "        \"0000320193-23-000077\",\n",
    "        # -----------------------------------------\n",
    "        # EXAMPLE 2: SEC EDGAR Filing URL\n",
    "        \"https://www.sec.gov/ix?doc=/Archives/edgar/data/320193/000032019323000077/aapl-20230701.htm\",\n",
    "        # -----------------------------------------\n",
    "        # EXAMPLE 3: Latest 10-Q filing from Netflix\n",
    "        # Note: Use a Ticker or CIK. Format: [amount=1]/ticker_or_cik/[form_type=10-Q]\n",
    "        \"NFLX\",\n",
    "        # -----------------------------------------\n",
    "        # Example 4: Two latest 10-K filings from Microsoft\n",
    "        # Note: Equivalent to RequestedFilings(limit=2, ticker_or_cik=\"MSFT\", form_type=\"10-K\")\n",
    "        \"2/MSFT/10-K\",\n",
    "    ]\n",
    ")\n",
    "\n",
    "# Below is just for demo purposes to view the values in the result\n",
    "import pandas as pd\n",
    "from dataclasses import asdict\n",
    "\n",
    "r = pd.DataFrame([asdict(metadata) for metadata in metadatas])\n",
    "r = r[[\"company_name\"] + [col for col in r.columns if col != \"company_name\"]]\n",
    "r"
   ]
  },
  {
   "cell_type": "markdown",
   "metadata": {},
   "source": [
    "#### Download the HTML files\n",
    "\n",
    "You can download the HTML for any of the filings:"
   ]
  },
  {
   "cell_type": "code",
   "execution_count": null,
   "metadata": {},
   "outputs": [
    {
     "name": "stdout",
     "output_type": "stream",
     "text": [
      "<?xml version=\"1.0\" ?><!--XBRL Document Created wi\n"
     ]
    }
   ],
   "source": [
    "for metadata in metadatas:\n",
    "    html = dl.download_filing(url=metadata.primary_doc_url).decode()\n",
    "    print(html[:50])\n",
    "    break  # same for all filings, let's just print the first one"
   ]
  },
  {
   "cell_type": "markdown",
   "metadata": {},
   "source": [
    "## Contributing\n",
    "\n",
    "Follow these steps to install the project locally for development:\n",
    "\n",
    "1. Install the project with the command `pip install -e \".[dev]\"`.\n",
    "\n",
    "> **Note**\n",
    "We highly recommend using virtual environments for Python development. If you'd like to use virtual environments, follow these steps instead:\n",
    "> - Create a virtual environment `python3 -m venv .venv`\n",
    "> - Activate the virtual environment `source .venv/bin/activate`\n",
    "> - Install the project with the command `pip install -e \".[dev]\"`"
   ]
  }
 ],
 "metadata": {
  "kernelspec": {
   "display_name": "python3",
   "language": "python",
   "name": "python3"
  }
 },
 "nbformat": 4,
 "nbformat_minor": 4
}
