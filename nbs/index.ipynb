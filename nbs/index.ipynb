{
 "cells": [
  {
   "cell_type": "code",
   "execution_count": null,
   "metadata": {},
   "outputs": [
    {
     "data": {
      "text/html": [
       "\n",
       "                <script type=\"application/javascript\" id=\"jupyter_black\">\n",
       "                (function() {\n",
       "                    if (window.IPython === undefined) {\n",
       "                        return\n",
       "                    }\n",
       "                    var msg = \"WARNING: it looks like you might have loaded \" +\n",
       "                        \"jupyter_black in a non-lab notebook with \" +\n",
       "                        \"`is_lab=True`. Please double check, and if \" +\n",
       "                        \"loading with `%load_ext` please review the README!\"\n",
       "                    console.log(msg)\n",
       "                    alert(msg)\n",
       "                })()\n",
       "                </script>\n",
       "                "
      ],
      "text/plain": [
       "<IPython.core.display.HTML object>"
      ]
     },
     "metadata": {},
     "output_type": "display_data"
    }
   ],
   "source": [
    "# | hide\n",
    "import jupyter_black\n",
    "from pprint import pprint as print\n",
    "jupyter_black.load()"
   ]
  },
  {
   "attachments": {},
   "cell_type": "markdown",
   "metadata": {},
   "source": [
    "# sec-downloader"
   ]
  },
  {
   "attachments": {},
   "cell_type": "markdown",
   "metadata": {},
   "source": [
    "\n",
    "<a href=\"https://github.com/elijas/sec-downloader/actions/workflows/test.yaml\"><img alt=\"GitHub Workflow Status\" src=\"https://img.shields.io/github/actions/workflow/status/elijas/sec-downloader/test.yaml?label=build\"></a>\n",
    "<a href=\"https://pypi.org/project/sec-downloader/\"><img alt=\"PyPI - Python Version\" src=\"https://img.shields.io/pypi/pyversions/sec-downloader\"></a>\n",
    "<a href=\"https://badge.fury.io/py/sec-downloader\"><img src=\"https://badge.fury.io/py/sec-downloader.svg\" alt=\"PyPI version\" /></a>\n",
    "<a href=\"LICENSE\"><img src=\"https://img.shields.io/github/license/elijas/sec-downloader.svg\" alt=\"Licence\"></a>\n",
    "\n",
    "A better version of `sec-edgar-downloader`. Includes an alternative implementation (a wrapper instead of a fork), to keep compatibility with new `sec-edgar-downloader` releases. This library partially uses [nbdev](https://nbdev.fast.ai/).\n",
    "\n"
   ]
  },
  {
   "cell_type": "markdown",
   "metadata": {},
   "source": [
    "# Features\n",
    "\n",
    "Advantages over `sec-edgar-downloader`:\n",
    "\n",
    "**Flexibility in Download Process**\n",
    "- Tailored for choosing *what*, *where*, and *how* to download.\n",
    "- Files stored in memory for faster operations and no unnecessary disk clutter.\n",
    "\n",
    "**Separate Metadata and File Downloads**\n",
    "- Easily skip unneeded files.\n",
    "- Download metadata first, then selectively download files.\n",
    "- Option to save metadata for better organization.\n",
    "\n",
    "**More Input Options**\n",
    "- Ticker or CIK (e.g., `AAPL`, `0000320193`) for latest filings.\n",
    "- Accession Number (e.g., `0000320193-23-000077`). Not supported in `sec-edgar-downloader`.\n",
    "- SEC EDGAR URL (e.g., `https://www.sec.gov/ix?doc=/Archives/edgar/data/0001067983/000119312523272204/d564412d8k.htm`). Not supported in `sec-edgar-downloader`.\n"
   ]
  },
  {
   "attachments": {},
   "cell_type": "markdown",
   "metadata": {},
   "source": [
    "# Install"
   ]
  },
  {
   "attachments": {},
   "cell_type": "markdown",
   "metadata": {},
   "source": [
    "```sh\n",
    "pip install sec_downloader\n",
    "```"
   ]
  },
  {
   "attachments": {},
   "cell_type": "markdown",
   "metadata": {},
   "source": [
    "# How to use"
   ]
  },
  {
   "cell_type": "markdown",
   "metadata": {},
   "source": [
    "## Download the metadata"
   ]
  },
  {
   "cell_type": "markdown",
   "metadata": {},
   "source": [
    "> **Note**\n",
    "The company name and email address are used to form a user-agent string that adheres to the SEC EDGAR's fair access policy for programmatic downloading. [Source](https://www.sec.gov/os/webmaster-faq#code-support)"
   ]
  },
  {
   "cell_type": "code",
   "execution_count": null,
   "metadata": {},
   "outputs": [],
   "source": [
    "from sec_downloader import Downloader\n",
    "\n",
    "dl = Downloader(\"MyCompanyName\", \"email@example.com\")"
   ]
  },
  {
   "cell_type": "markdown",
   "metadata": {},
   "source": [
    "Find a filing with an Accession Number"
   ]
  },
  {
   "cell_type": "code",
   "execution_count": null,
   "metadata": {},
   "outputs": [
    {
     "name": "stdout",
     "output_type": "stream",
     "text": [
      "FilingMetadata(accession_number='0000320193-23-000077',\n",
      "               form_type='10-Q',\n",
      "               primary_doc_url='https://www.sec.gov/Archives/edgar/data/320193/000032019323000077/aapl-20230701.htm',\n",
      "               items='',\n",
      "               primary_doc_description='10-Q',\n",
      "               filing_date='2023-08-04',\n",
      "               report_date='2023-07-01',\n",
      "               cik='0000320193',\n",
      "               company_name='Apple Inc.',\n",
      "               tickers=[Ticker(symbol='AAPL', exchange='Nasdaq')])\n"
     ]
    }
   ],
   "source": [
    "metadata = dl.get_filing_metadatas(\"AAPL/0000320193-23-000077\")\n",
    "print(metadata[0])"
   ]
  },
  {
   "cell_type": "markdown",
   "metadata": {},
   "source": [
    "Alternatively, you can also use any of these to get the same answer:\n",
    "```\n",
    "metadata = dl.get_filing_metadatas(\"aapl/000032019323000077\")\n",
    "metadata = dl.get_filing_metadatas(\"320193/000032019323000077\")\n",
    "metadata = dl.get_filing_metadatas(\"320193/0000320193-23-000077\")\n",
    "metadata = dl.get_filing_metadatas(\"0000320193/0000320193-23-000077\")\n",
    "metadata = dl.get_filing_metadatas(CompanyAndAccessionNumber(ticker_or_cik=\"320193\", accession_number=\"0000320193-23-000077\"))\n",
    "```"
   ]
  },
  {
   "cell_type": "markdown",
   "metadata": {},
   "source": [
    "Find the filing matching a SEC EDGAR Filing URL. Only CIK and Accession Number are used from the URL:"
   ]
  },
  {
   "cell_type": "code",
   "execution_count": null,
   "metadata": {},
   "outputs": [
    {
     "name": "stdout",
     "output_type": "stream",
     "text": [
      "FilingMetadata(accession_number='0001193125-23-272204',\n",
      "               form_type='8-K',\n",
      "               primary_doc_url='https://www.sec.gov/Archives/edgar/data/1067983/000119312523272204/d564412d8k.htm',\n",
      "               items='2.02,9.01',\n",
      "               primary_doc_description='8-K',\n",
      "               filing_date='2023-11-07',\n",
      "               report_date='2023-11-04',\n",
      "               cik='0001067983',\n",
      "               company_name='BERKSHIRE HATHAWAY INC',\n",
      "               tickers=[Ticker(symbol='BRK-B', exchange='NYSE'),\n",
      "                        Ticker(symbol='BRK-A', exchange='NYSE')])\n"
     ]
    }
   ],
   "source": [
    "metadatas = dl.get_filing_metadatas(\n",
    "    \"https://www.sec.gov/ix?doc=/Archives/edgar/data/0001067983/000119312523272204/d564412d8k.htm\"\n",
    ")\n",
    "print(metadatas[0])"
   ]
  },
  {
   "cell_type": "markdown",
   "metadata": {},
   "source": [
    "Alternatively, you can also URLs in other formats and get the same answer:\n",
    "```\n",
    "metadata = dl.get_filing_metadatas(\"https://www.sec.gov/Archives/edgar/data/1067983/000119312523272204/d564412d8k.htm\")\n",
    "```"
   ]
  },
  {
   "cell_type": "markdown",
   "metadata": {},
   "source": [
    "Find latest filings by company ticker or CIK:"
   ]
  },
  {
   "cell_type": "code",
   "execution_count": null,
   "metadata": {},
   "outputs": [
    {
     "name": "stdout",
     "output_type": "stream",
     "text": [
      "[FilingMetadata(accession_number='0001193125-23-272204',\n",
      "                form_type='8-K',\n",
      "                primary_doc_url='https://www.sec.gov/Archives/edgar/data/1067983/000119312523272204/d564412d8k.htm',\n",
      "                items='2.02,9.01',\n",
      "                primary_doc_description='8-K',\n",
      "                filing_date='2023-11-07',\n",
      "                report_date='2023-11-04',\n",
      "                cik='0001067983',\n",
      "                company_name='BERKSHIRE HATHAWAY INC',\n",
      "                tickers=[Ticker(symbol='BRK-B', exchange='NYSE'),\n",
      "                         Ticker(symbol='BRK-A', exchange='NYSE')])]\n"
     ]
    }
   ],
   "source": [
    "from sec_downloader.types import RequestedFilings\n",
    "\n",
    "metadata = dl.get_filing_metadatas(\n",
    "    RequestedFilings(ticker_or_cik=\"MSFT\", form_type=\"10-K\", limit=2)\n",
    ")\n",
    "print(metadatas)"
   ]
  },
  {
   "cell_type": "markdown",
   "metadata": {},
   "source": [
    "Alternatively, you can also use any of these to get the same answer:\n",
    "```\n",
    "metadata = dl.get_filing_metadatas(\"2/msft/10-K\")\n",
    "metadata = dl.get_filing_metadatas(\"2/789019/10-K\")\n",
    "metadata = dl.get_filing_metadatas(\"2/0000789019/10-K\")\n",
    "```"
   ]
  },
  {
   "cell_type": "markdown",
   "metadata": {},
   "source": [
    "The parameters `limit` and `form_type` are optional. If omitted, `limit` defaults to 1, and `form_type` defaults to '10-Q'."
   ]
  },
  {
   "cell_type": "code",
   "execution_count": null,
   "metadata": {},
   "outputs": [
    {
     "name": "stdout",
     "output_type": "stream",
     "text": [
      "[FilingMetadata(accession_number='0001065280-23-000273',\n",
      "                form_type='10-Q',\n",
      "                primary_doc_url='https://www.sec.gov/Archives/edgar/data/1065280/000106528023000273/nflx-20230930.htm',\n",
      "                items='',\n",
      "                primary_doc_description='10-Q',\n",
      "                filing_date='2023-10-20',\n",
      "                report_date='2023-09-30',\n",
      "                cik='0001065280',\n",
      "                company_name='NETFLIX INC',\n",
      "                tickers=[Ticker(symbol='NFLX', exchange='Nasdaq')])]\n"
     ]
    }
   ],
   "source": [
    "metadatas = dl.get_filing_metadatas(\"NFLX\")\n",
    "print(metadatas)"
   ]
  },
  {
   "cell_type": "markdown",
   "metadata": {},
   "source": [
    "Alternatively, you can also use any of these to get the same answer:\n",
    "```\n",
    "metadata = dl.get_filing_metadatas(\"nflx\")\n",
    "metadata = dl.get_filing_metadatas(\"1/NFLX\")\n",
    "metadata = dl.get_filing_metadatas(\"NFLX/10-Q\")\n",
    "metadata = dl.get_filing_metadatas(\"1/NFLX/10-Q\")\n",
    "metadata = dl.get_filing_metadatas(RequestedFilings(ticker_or_cik=\"NFLX\"))\n",
    "metadata = dl.get_filing_metadatas(RequestedFilings(limit=1, ticker_or_cik=\"NFLX\", form_type=\"10-Q\"))\n",
    "```"
   ]
  },
  {
   "cell_type": "markdown",
   "metadata": {},
   "source": [
    "## Download the HTML files\n",
    "\n",
    "After obtaining the Primary Document URL, for example from the metadata, you can proceed to download the HTML using this URL."
   ]
  },
  {
   "cell_type": "code",
   "execution_count": null,
   "metadata": {},
   "outputs": [
    {
     "name": "stdout",
     "output_type": "stream",
     "text": [
      "'<?xml version=\"1.0\" ?><!--XBRL Document Created wi'\n"
     ]
    }
   ],
   "source": [
    "for metadata in metadatas:\n",
    "    html = dl.download_filing(url=metadata.primary_doc_url).decode()\n",
    "    print(html[:50])\n",
    "    break  # same for all filings, let's just print the first one"
   ]
  },
  {
   "cell_type": "markdown",
   "metadata": {},
   "source": [
    "# Alternative implementation: Wrapper"
   ]
  },
  {
   "cell_type": "markdown",
   "metadata": {},
   "source": [
    "Files are downloaded to a temporary folder, immediately read into memory, and then deleted. Let's demonstrate how to download a single file (latest 10-Q filing details in HTML format) to memory. The \"glob\" pattern is used to select which files are read to memory."
   ]
  },
  {
   "cell_type": "code",
   "execution_count": null,
   "metadata": {},
   "outputs": [
    {
     "name": "stdout",
     "output_type": "stream",
     "text": [
      "'<?xml version=\"1.0\" ?><!--XBRL Document Created wi...'\n"
     ]
    }
   ],
   "source": [
    "from sec_edgar_downloader import Downloader as SecEdgarDownloader\n",
    "from sec_downloader.download_storage import DownloadStorage\n",
    "\n",
    "ONLY_HTML = \"**/*.htm*\"\n",
    "\n",
    "storage = DownloadStorage(filter_pattern=ONLY_HTML)\n",
    "with storage as path:\n",
    "    dl = SecEdgarDownloader(\"MyCompanyName\", \"email@example.com\", path)\n",
    "    dl.get(\"10-Q\", \"AAPL\", limit=1, download_details=True)\n",
    "# all files are now deleted and only stored in memory\n",
    "\n",
    "content = storage.get_file_contents()[0].content\n",
    "print(f\"{content[:50]}...\")"
   ]
  },
  {
   "cell_type": "markdown",
   "metadata": {},
   "source": [
    "Downloading multiple documents:"
   ]
  },
  {
   "cell_type": "code",
   "execution_count": null,
   "metadata": {},
   "outputs": [
    {
     "name": "stdout",
     "output_type": "stream",
     "text": [
      "('Path: sec-edgar-filings/GOOG/10-K/0001652044-22-000019/full-submission.txt\\n'\n",
      " 'Content [len=15044932]: <SEC-DOCUMENT>0001652044-22-00...\\n')\n",
      "('Path: sec-edgar-filings/GOOG/10-K/0001652044-23-000016/full-submission.txt\\n'\n",
      " 'Content [len=15264470]: <SEC-DOCUMENT>0001652044-23-00...\\n')\n"
     ]
    }
   ],
   "source": [
    "storage = DownloadStorage()\n",
    "with storage as path:\n",
    "    dl = SecEdgarDownloader(\"MyCompanyName\", \"email@example.com\", path)\n",
    "    dl.get(\"10-K\", \"GOOG\", limit=2)\n",
    "# all files are now deleted and only stored in memory\n",
    "\n",
    "for path, content in storage.get_file_contents():\n",
    "    print(f\"Path: {path}\\nContent [len={len(content)}]: {content[:30]}...\\n\")"
   ]
  },
  {
   "cell_type": "markdown",
   "metadata": {},
   "source": [
    "# Contributing\n",
    "\n",
    "Follow these steps to install the project locally for development:\n",
    "\n",
    "1. Install the project with the command `pip install -e \".[dev]\"`.\n",
    "\n",
    "> **Note**\n",
    "We highly recommend using virtual environments for Python development. If you'd like to use virtual environments, follow these steps instead:\n",
    ">\n",
    "> - Create a virtual environment `python3 -m venv .venv`\n",
    "> - Activate the virtual environment `source .venv/bin/activate`\n",
    "> - Install the project with the command `pip install -e \".[dev]\"`"
   ]
  }
 ],
 "metadata": {
  "kernelspec": {
   "display_name": "python3",
   "language": "python",
   "name": "python3"
  }
 },
 "nbformat": 4,
 "nbformat_minor": 4
}
