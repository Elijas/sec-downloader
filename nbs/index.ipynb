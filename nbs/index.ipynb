{
 "cells": [
  {
   "cell_type": "code",
   "execution_count": null,
   "metadata": {},
   "outputs": [
    {
     "data": {
      "text/html": [
       "\n",
       "                <script type=\"application/javascript\" id=\"jupyter_black\">\n",
       "                (function() {\n",
       "                    if (window.IPython === undefined) {\n",
       "                        return\n",
       "                    }\n",
       "                    var msg = \"WARNING: it looks like you might have loaded \" +\n",
       "                        \"jupyter_black in a non-lab notebook with \" +\n",
       "                        \"`is_lab=True`. Please double check, and if \" +\n",
       "                        \"loading with `%load_ext` please review the README!\"\n",
       "                    console.log(msg)\n",
       "                    alert(msg)\n",
       "                })()\n",
       "                </script>\n",
       "                "
      ],
      "text/plain": [
       "<IPython.core.display.HTML object>"
      ]
     },
     "metadata": {},
     "output_type": "display_data"
    }
   ],
   "source": [
    "# | hide\n",
    "import jupyter_black\n",
    "\n",
    "jupyter_black.load()"
   ]
  },
  {
   "attachments": {},
   "cell_type": "markdown",
   "metadata": {},
   "source": [
    "# sec-downloader"
   ]
  },
  {
   "attachments": {},
   "cell_type": "markdown",
   "metadata": {},
   "source": [
    "\n",
    "<a href=\"https://github.com/elijas/sec-downloader/actions/workflows/test.yaml\"><img alt=\"GitHub Workflow Status\" src=\"https://img.shields.io/github/actions/workflow/status/elijas/sec-downloader/test.yaml?label=build\"></a>\n",
    "<a href=\"https://pypi.org/project/sec-downloader/\"><img alt=\"PyPI - Python Version\" src=\"https://img.shields.io/pypi/pyversions/sec-downloader\"></a>\n",
    "<a href=\"https://badge.fury.io/py/sec-downloader\"><img src=\"https://badge.fury.io/py/sec-downloader.svg\" alt=\"PyPI version\" /></a>\n",
    "<a href=\"LICENSE\"><img src=\"https://img.shields.io/github/license/elijas/sec-downloader.svg\" alt=\"Licence\"></a>\n",
    "\n",
    "Useful extensions for sec-edgar-downloader. Built with [nbdev](https://nbdev.fast.ai/).\n",
    "\n"
   ]
  },
  {
   "attachments": {},
   "cell_type": "markdown",
   "metadata": {},
   "source": [
    "## Install"
   ]
  },
  {
   "attachments": {},
   "cell_type": "markdown",
   "metadata": {},
   "source": [
    "```sh\n",
    "pip install sec_downloader\n",
    "```"
   ]
  },
  {
   "attachments": {},
   "cell_type": "markdown",
   "metadata": {},
   "source": [
    "## Features"
   ]
  },
  {
   "attachments": {},
   "cell_type": "markdown",
   "metadata": {},
   "source": [
    " - Files are downloaded to a temporary folder, immediately read into memory, and then deleted.\n",
    " - Use \"glob\" pattern to select which files are read to memory.\n"
   ]
  },
  {
   "attachments": {},
   "cell_type": "markdown",
   "metadata": {},
   "source": [
    "## How to use"
   ]
  },
  {
   "cell_type": "markdown",
   "metadata": {},
   "source": [
    "### Download from ticker"
   ]
  },
  {
   "attachments": {},
   "cell_type": "markdown",
   "metadata": {},
   "source": [
    "Let's demonstrate how to download a single file (latest 10-Q filing details in HTML format) to memory."
   ]
  },
  {
   "cell_type": "code",
   "execution_count": null,
   "metadata": {},
   "outputs": [
    {
     "name": "stdout",
     "output_type": "stream",
     "text": [
      "<?xml version=\"1.0\" ?><!--XBRL Document Created wi...\n"
     ]
    }
   ],
   "source": [
    "from sec_downloader import Downloader\n",
    "\n",
    "dl = Downloader(\"MyCompanyName\", \"email@example.com\")\n",
    "html = dl.get_latest_html(\"10-Q\", \"AAPL\")\n",
    "# Use dl.get_latest_n_html(\"10-Q\", \"AAPL\", n=5) to get the latest 5 10-Qs\n",
    "print(f\"{html[:50]}...\")"
   ]
  },
  {
   "attachments": {},
   "cell_type": "markdown",
   "metadata": {},
   "source": [
    "> **Note**\n",
    "The company name and email address are used to form a user-agent string that adheres to the SEC EDGAR's fair access policy for programmatic downloading. [Source](https://www.sec.gov/os/webmaster-faq#code-support)"
   ]
  },
  {
   "attachments": {},
   "cell_type": "markdown",
   "metadata": {},
   "source": [
    "Which is implemented approximately as:"
   ]
  },
  {
   "cell_type": "code",
   "execution_count": null,
   "metadata": {},
   "outputs": [
    {
     "name": "stdout",
     "output_type": "stream",
     "text": [
      "<?xml version=\"1.0\" ?><!--XBRL Document Created wi...\n"
     ]
    }
   ],
   "source": [
    "from sec_edgar_downloader import Downloader as SecEdgarDownloader\n",
    "from sec_downloader import DownloadStorage\n",
    "\n",
    "ONLY_HTML = \"**/*.htm*\"\n",
    "\n",
    "storage = DownloadStorage(filter_pattern=ONLY_HTML)\n",
    "with storage as path:\n",
    "    dl = SecEdgarDownloader(\"MyCompanyName\", \"email@example.com\", path)\n",
    "    dl.get(\"10-Q\", \"AAPL\", limit=1, download_details=True)\n",
    "# all files are now deleted and only stored in memory\n",
    "\n",
    "content = storage.get_file_contents()[0].content\n",
    "print(f\"{content[:50]}...\")"
   ]
  },
  {
   "attachments": {},
   "cell_type": "markdown",
   "metadata": {},
   "source": [
    "Downloading multiple documents:"
   ]
  },
  {
   "cell_type": "code",
   "execution_count": null,
   "metadata": {},
   "outputs": [
    {
     "name": "stdout",
     "output_type": "stream",
     "text": [
      "Path: sec-edgar-filings/GOOG/10-K/0001652044-22-000019/full-submission.txt\n",
      "Content [len=15044932]: <SEC-DOCUMENT>0001652044-22-00...\n",
      "\n",
      "Path: sec-edgar-filings/GOOG/10-K/0001652044-23-000016/full-submission.txt\n",
      "Content [len=15264470]: <SEC-DOCUMENT>0001652044-23-00...\n",
      "\n"
     ]
    }
   ],
   "source": [
    "storage = DownloadStorage()\n",
    "with storage as path:\n",
    "    dl = SecEdgarDownloader(\"MyCompanyName\", \"email@example.com\", path)\n",
    "    dl.get(\"10-K\", \"GOOG\", limit=2)\n",
    "# all files are now deleted and only stored in memory\n",
    "\n",
    "for path, content in storage.get_file_contents():\n",
    "    print(f\"Path: {path}\\nContent [len={len(content)}]: {content[:30]}...\\n\")"
   ]
  },
  {
   "cell_type": "markdown",
   "metadata": {},
   "source": [
    "### Download from Accession Number"
   ]
  },
  {
   "cell_type": "code",
   "execution_count": null,
   "metadata": {},
   "outputs": [
    {
     "name": "stdout",
     "output_type": "stream",
     "text": [
      "<?xml version=\"1.0\" ?><!--XBRL Document Created wi...\n"
     ]
    }
   ],
   "source": [
    "dl = Downloader(\"MyCompanyName\", \"email@example.com\")\n",
    "html = dl.get_primary_doc_html(accession_number=\"0000320193-23-000077\")\n",
    "print(f\"{html[:50]}...\")"
   ]
  },
  {
   "cell_type": "markdown",
   "metadata": {},
   "source": [
    "## Contributing\n",
    "\n",
    "Follow these steps to install the project locally for development:\n",
    "\n",
    "1. Install the project with the command `pip install -e \".[dev]\"`.\n",
    "\n",
    "> **Note**\n",
    "We highly recommend using virtual environments for Python development. If you'd like to use virtual environments, follow these steps instead:\n",
    "> - Create a virtual environment `python3 -m venv .venv`\n",
    "> - Activate the virtual environment `source .venv/bin/activate`\n",
    "> - Install the project with the command `pip install -e \".[dev]\"`"
   ]
  }
 ],
 "metadata": {
  "kernelspec": {
   "display_name": "python3",
   "language": "python",
   "name": "python3"
  }
 },
 "nbformat": 4,
 "nbformat_minor": 4
}
